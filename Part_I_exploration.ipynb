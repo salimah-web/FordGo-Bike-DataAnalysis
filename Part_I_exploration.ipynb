{
 "cells": [
  {
   "cell_type": "markdown",
   "id": "1e122b82",
   "metadata": {},
   "source": [
    "# Part I - Ford Gobike Trip Data Exploration\n",
    "## by Salima Omari\n",
    "\n",
    "## Introduction\n",
    "Ford GoBike is the Bay Area's bike share available in San Francisco, San Jose, and the East Bay which help connect people to work, friends and places. Thousands of bikes are available to be picked up and droped off anywhere. No schedule. No rails. Ride your way. This dataset includes information about individual rides made in a bike-sharing system by Ford covering the greater San Francisco Bay area in 2018.\n",
    " \n",
    "## Preliminary Wrangling\n",
    "\n",
    "### Data gathering\n",
    "This data was directly downloading from <a href=\"https://s3.amazonaws.com/fordgobike-data/index.html\">here</a>. Each month's data were downloaded individually. They will merged together before being used to perform analysis.\n"
   ]
  },
  {
   "cell_type": "code",
   "execution_count": 1,
   "id": "4726424b",
   "metadata": {},
   "outputs": [],
   "source": [
    "# import all packages and set plots to be embedded inline\n",
    "import numpy as np\n",
    "import pandas as pd\n",
    "import matplotlib.pyplot as plt\n",
    "import seaborn as sns\n",
    "\n",
    "%matplotlib inline"
   ]
  },
  {
   "cell_type": "code",
   "execution_count": 2,
   "id": "d2c20357",
   "metadata": {},
   "outputs": [
    {
     "data": {
      "text/html": [
       "<div>\n",
       "<style scoped>\n",
       "    .dataframe tbody tr th:only-of-type {\n",
       "        vertical-align: middle;\n",
       "    }\n",
       "\n",
       "    .dataframe tbody tr th {\n",
       "        vertical-align: top;\n",
       "    }\n",
       "\n",
       "    .dataframe thead th {\n",
       "        text-align: right;\n",
       "    }\n",
       "</style>\n",
       "<table border=\"1\" class=\"dataframe\">\n",
       "  <thead>\n",
       "    <tr style=\"text-align: right;\">\n",
       "      <th></th>\n",
       "      <th>duration_sec</th>\n",
       "      <th>start_time</th>\n",
       "      <th>end_time</th>\n",
       "      <th>start_station_id</th>\n",
       "      <th>start_station_name</th>\n",
       "      <th>start_station_latitude</th>\n",
       "      <th>start_station_longitude</th>\n",
       "      <th>end_station_id</th>\n",
       "      <th>end_station_name</th>\n",
       "      <th>end_station_latitude</th>\n",
       "      <th>end_station_longitude</th>\n",
       "      <th>bike_id</th>\n",
       "      <th>user_type</th>\n",
       "      <th>member_birth_year</th>\n",
       "      <th>member_gender</th>\n",
       "      <th>bike_share_for_all_trip</th>\n",
       "    </tr>\n",
       "  </thead>\n",
       "  <tbody>\n",
       "    <tr>\n",
       "      <th>0</th>\n",
       "      <td>75284</td>\n",
       "      <td>2018-01-31 22:52:35.2390</td>\n",
       "      <td>2018-02-01 19:47:19.8240</td>\n",
       "      <td>120.0</td>\n",
       "      <td>Mission Dolores Park</td>\n",
       "      <td>37.761420</td>\n",
       "      <td>-122.426435</td>\n",
       "      <td>285.0</td>\n",
       "      <td>Webster St at O'Farrell St</td>\n",
       "      <td>37.783521</td>\n",
       "      <td>-122.431158</td>\n",
       "      <td>2765</td>\n",
       "      <td>Subscriber</td>\n",
       "      <td>1986.0</td>\n",
       "      <td>Male</td>\n",
       "      <td>No</td>\n",
       "    </tr>\n",
       "    <tr>\n",
       "      <th>1</th>\n",
       "      <td>85422</td>\n",
       "      <td>2018-01-31 16:13:34.3510</td>\n",
       "      <td>2018-02-01 15:57:17.3100</td>\n",
       "      <td>15.0</td>\n",
       "      <td>San Francisco Ferry Building (Harry Bridges Pl...</td>\n",
       "      <td>37.795392</td>\n",
       "      <td>-122.394203</td>\n",
       "      <td>15.0</td>\n",
       "      <td>San Francisco Ferry Building (Harry Bridges Pl...</td>\n",
       "      <td>37.795392</td>\n",
       "      <td>-122.394203</td>\n",
       "      <td>2815</td>\n",
       "      <td>Customer</td>\n",
       "      <td>NaN</td>\n",
       "      <td>NaN</td>\n",
       "      <td>No</td>\n",
       "    </tr>\n",
       "    <tr>\n",
       "      <th>2</th>\n",
       "      <td>71576</td>\n",
       "      <td>2018-01-31 14:23:55.8890</td>\n",
       "      <td>2018-02-01 10:16:52.1160</td>\n",
       "      <td>304.0</td>\n",
       "      <td>Jackson St at 5th St</td>\n",
       "      <td>37.348759</td>\n",
       "      <td>-121.894798</td>\n",
       "      <td>296.0</td>\n",
       "      <td>5th St at Virginia St</td>\n",
       "      <td>37.325998</td>\n",
       "      <td>-121.877120</td>\n",
       "      <td>3039</td>\n",
       "      <td>Customer</td>\n",
       "      <td>1996.0</td>\n",
       "      <td>Male</td>\n",
       "      <td>No</td>\n",
       "    </tr>\n",
       "    <tr>\n",
       "      <th>3</th>\n",
       "      <td>61076</td>\n",
       "      <td>2018-01-31 14:53:23.5620</td>\n",
       "      <td>2018-02-01 07:51:20.5000</td>\n",
       "      <td>75.0</td>\n",
       "      <td>Market St at Franklin St</td>\n",
       "      <td>37.773793</td>\n",
       "      <td>-122.421239</td>\n",
       "      <td>47.0</td>\n",
       "      <td>4th St at Harrison St</td>\n",
       "      <td>37.780955</td>\n",
       "      <td>-122.399749</td>\n",
       "      <td>321</td>\n",
       "      <td>Customer</td>\n",
       "      <td>NaN</td>\n",
       "      <td>NaN</td>\n",
       "      <td>No</td>\n",
       "    </tr>\n",
       "    <tr>\n",
       "      <th>4</th>\n",
       "      <td>39966</td>\n",
       "      <td>2018-01-31 19:52:24.6670</td>\n",
       "      <td>2018-02-01 06:58:31.0530</td>\n",
       "      <td>74.0</td>\n",
       "      <td>Laguna St at Hayes St</td>\n",
       "      <td>37.776435</td>\n",
       "      <td>-122.426244</td>\n",
       "      <td>19.0</td>\n",
       "      <td>Post St at Kearny St</td>\n",
       "      <td>37.788975</td>\n",
       "      <td>-122.403452</td>\n",
       "      <td>617</td>\n",
       "      <td>Subscriber</td>\n",
       "      <td>1991.0</td>\n",
       "      <td>Male</td>\n",
       "      <td>No</td>\n",
       "    </tr>\n",
       "  </tbody>\n",
       "</table>\n",
       "</div>"
      ],
      "text/plain": [
       "   duration_sec                start_time                  end_time  \\\n",
       "0         75284  2018-01-31 22:52:35.2390  2018-02-01 19:47:19.8240   \n",
       "1         85422  2018-01-31 16:13:34.3510  2018-02-01 15:57:17.3100   \n",
       "2         71576  2018-01-31 14:23:55.8890  2018-02-01 10:16:52.1160   \n",
       "3         61076  2018-01-31 14:53:23.5620  2018-02-01 07:51:20.5000   \n",
       "4         39966  2018-01-31 19:52:24.6670  2018-02-01 06:58:31.0530   \n",
       "\n",
       "   start_station_id                                 start_station_name  \\\n",
       "0             120.0                               Mission Dolores Park   \n",
       "1              15.0  San Francisco Ferry Building (Harry Bridges Pl...   \n",
       "2             304.0                               Jackson St at 5th St   \n",
       "3              75.0                           Market St at Franklin St   \n",
       "4              74.0                              Laguna St at Hayes St   \n",
       "\n",
       "   start_station_latitude  start_station_longitude  end_station_id  \\\n",
       "0               37.761420              -122.426435           285.0   \n",
       "1               37.795392              -122.394203            15.0   \n",
       "2               37.348759              -121.894798           296.0   \n",
       "3               37.773793              -122.421239            47.0   \n",
       "4               37.776435              -122.426244            19.0   \n",
       "\n",
       "                                    end_station_name  end_station_latitude  \\\n",
       "0                         Webster St at O'Farrell St             37.783521   \n",
       "1  San Francisco Ferry Building (Harry Bridges Pl...             37.795392   \n",
       "2                              5th St at Virginia St             37.325998   \n",
       "3                              4th St at Harrison St             37.780955   \n",
       "4                               Post St at Kearny St             37.788975   \n",
       "\n",
       "   end_station_longitude  bike_id   user_type  member_birth_year  \\\n",
       "0            -122.431158     2765  Subscriber             1986.0   \n",
       "1            -122.394203     2815    Customer                NaN   \n",
       "2            -121.877120     3039    Customer             1996.0   \n",
       "3            -122.399749      321    Customer                NaN   \n",
       "4            -122.403452      617  Subscriber             1991.0   \n",
       "\n",
       "  member_gender bike_share_for_all_trip  \n",
       "0          Male                      No  \n",
       "1           NaN                      No  \n",
       "2          Male                      No  \n",
       "3           NaN                      No  \n",
       "4          Male                      No  "
      ]
     },
     "execution_count": 2,
     "metadata": {},
     "output_type": "execute_result"
    }
   ],
   "source": [
    "# Load dataset by joining all individual monthly data to one dataframe\n",
    "nums=['02','03','04','05','06','07','08','09','10','11','12']\n",
    "trip_data=pd.read_csv('201801-fordgobike-tripdata.csv')\n",
    "for i in nums:\n",
    "    df=pd.read_csv('2018'+i+'-fordgobike-tripdata.csv')\n",
    "    trip_data=trip_data.append(df)\n",
    "    \n",
    "    \n",
    "trip_data.head()"
   ]
  },
  {
   "cell_type": "code",
   "execution_count": 3,
   "id": "658291b8",
   "metadata": {},
   "outputs": [
    {
     "data": {
      "text/plain": [
       "0"
      ]
     },
     "execution_count": 3,
     "metadata": {},
     "output_type": "execute_result"
    }
   ],
   "source": [
    "#Check for duplicates\n",
    "trip_data.duplicated().sum()"
   ]
  },
  {
   "cell_type": "markdown",
   "id": "6c9fd4d0",
   "metadata": {},
   "source": [
    "### Structure of dataset\n",
    "\n",
    "There are 1,863,721 bike trips covered the dataset with 15 variables which are the **duration_sec, start_time, end_time,\tstart_station_id, start_station_name, start_station_latitude, start_station_longitude, end_station_id, end_station_name,\tend_station_latitude, end_station_longitude, bike_id, user_type, member_birth_year,\tmember_gender and bike_share_for_all_trip**. Variables have both categorical and numeric nature.\n",
    "\n",
    "### Main feature(s) of interest in the dataset\n",
    "\n",
    "Discovering factors and features that influence bike trips in San Francisco which will thereby help in improving easier access to smooth bike rides.\n",
    "\n",
    "### Features in the dataset that could help support this investigation into the feature(s) of interest\n",
    "The time of the year will have the strongest effect on the frequency of trips. It is also expected that some days will effect of the number of trips that would occur. The bike riding trips will be more prevalent in some age groups than others, for instance, younger kids would be unlikely to take trips and the number of trips will not be as frequent with the older people."
   ]
  },
  {
   "cell_type": "markdown",
   "id": "67b3d731",
   "metadata": {},
   "source": [
    "### Data assessing"
   ]
  },
  {
   "cell_type": "code",
   "execution_count": 4,
   "id": "b97a20ac",
   "metadata": {},
   "outputs": [
    {
     "name": "stdout",
     "output_type": "stream",
     "text": [
      "<class 'pandas.core.frame.DataFrame'>\n",
      "Int64Index: 1863721 entries, 0 to 131362\n",
      "Data columns (total 16 columns):\n",
      " #   Column                   Non-Null Count    Dtype  \n",
      "---  ------                   --------------    -----  \n",
      " 0   duration_sec             1863721 non-null  int64  \n",
      " 1   start_time               1863721 non-null  object \n",
      " 2   end_time                 1863721 non-null  object \n",
      " 3   start_station_id         1851950 non-null  float64\n",
      " 4   start_station_name       1851950 non-null  object \n",
      " 5   start_station_latitude   1863721 non-null  float64\n",
      " 6   start_station_longitude  1863721 non-null  float64\n",
      " 7   end_station_id           1851950 non-null  float64\n",
      " 8   end_station_name         1851950 non-null  object \n",
      " 9   end_station_latitude     1863721 non-null  float64\n",
      " 10  end_station_longitude    1863721 non-null  float64\n",
      " 11  bike_id                  1863721 non-null  int64  \n",
      " 12  user_type                1863721 non-null  object \n",
      " 13  member_birth_year        1753003 non-null  float64\n",
      " 14  member_gender            1753354 non-null  object \n",
      " 15  bike_share_for_all_trip  1863721 non-null  object \n",
      "dtypes: float64(7), int64(2), object(7)\n",
      "memory usage: 241.7+ MB\n"
     ]
    }
   ],
   "source": [
    "trip_data.info(verbose=True, show_counts=True)"
   ]
  },
  {
   "cell_type": "markdown",
   "id": "b31654a8",
   "metadata": {},
   "source": [
    "###### Quality issues\n",
    "- Missing values in columns start_station_id,start_station_name, end_station_id,end_station_name, member_birth_year,member_gender.\n",
    "- Wrong datatypes in columns start_time,end_time, start_station_id, end_station_id,bike_id, member_birth_year\n"
   ]
  },
  {
   "cell_type": "markdown",
   "id": "e349d05a",
   "metadata": {},
   "source": [
    "### Data cleaning"
   ]
  },
  {
   "cell_type": "markdown",
   "id": "5a9e921b",
   "metadata": {},
   "source": [
    "**Issue 1**: Missing values in columns start_station_id,start_station_name, end_station_id,end_station_name, member_birth_year,member_gender.<br>\n",
    "**Define**: Drop all missing values as they are quite few<br>\n",
    "**Code**"
   ]
  },
  {
   "cell_type": "code",
   "execution_count": 5,
   "id": "104835bb",
   "metadata": {},
   "outputs": [],
   "source": [
    "# drop all missing values\n",
    "trip_data=trip_data.dropna()"
   ]
  },
  {
   "cell_type": "markdown",
   "id": "e1c40262",
   "metadata": {},
   "source": [
    "**Issue 2**: Wrong datatypes in columns start_time,end_time, start_station_id, end_station_id,bike_id, member_birth_year<br>\n",
    "**Define**: Assign appropriate datatypes to the columns<br>\n",
    "**Code**"
   ]
  },
  {
   "cell_type": "code",
   "execution_count": null,
   "id": "7eb7044b",
   "metadata": {},
   "outputs": [],
   "source": [
    "# convert the 'start_time' and 'end_time' columns to datetime format\n",
    "import warnings\n",
    "warnings.filterwarnings(\"ignore\")\n",
    "\n",
    "trip_data['start_time']= pd.to_datetime(trip_data['start_time'])\n",
    "trip_data['end_time']= pd.to_datetime(trip_data['end_time'])"
   ]
  },
  {
   "cell_type": "code",
   "execution_count": null,
   "id": "2c4e5034",
   "metadata": {},
   "outputs": [],
   "source": [
    "# Create new column for user age from their birth year\n",
    "from datetime import date\n",
    "\n",
    "current_year = date.today().year\n",
    "trip_data['user_age']=current_year-trip_data['member_birth_year']\n",
    "\n",
    "# convert the new column to integar datatype\n",
    "trip_data['user_age'] = trip_data['user_age'].astype(int)"
   ]
  },
  {
   "cell_type": "code",
   "execution_count": null,
   "id": "3103f20d",
   "metadata": {},
   "outputs": [],
   "source": [
    "# convert start_station_id, end_station_id,bike_id columns to string datatype\n",
    "trip_data['start_station_id'] = trip_data['start_station_id'].astype(str)\n",
    "trip_data['end_station_id'] = trip_data['end_station_id'].astype(str)\n",
    "trip_data['bike_id'] = trip_data['bike_id'].astype(str)"
   ]
  },
  {
   "cell_type": "code",
   "execution_count": null,
   "id": "c164020a",
   "metadata": {},
   "outputs": [],
   "source": [
    "# change the trip duration time from seconds to minutes\n",
    "trip_data['trip_duration(mins)']= trip_data['duration_sec']/60\n",
    "trip_data['trip_duration(mins)'] = trip_data['trip_duration(mins)'].astype(int)"
   ]
  },
  {
   "cell_type": "markdown",
   "id": "91cfa4a6",
   "metadata": {},
   "source": [
    "**Test**"
   ]
  },
  {
   "cell_type": "code",
   "execution_count": null,
   "id": "f1bacd73",
   "metadata": {},
   "outputs": [],
   "source": [
    "trip_data.info(verbose=True, show_counts=True)"
   ]
  },
  {
   "cell_type": "markdown",
   "id": "d9a7ee71",
   "metadata": {},
   "source": [
    "The dataframe has no column for distance covered each trip, which should be an important feature to carry out investigations on this dataset, it will be created using the locations of the the start and end stations"
   ]
  },
  {
   "cell_type": "code",
   "execution_count": null,
   "id": "a3a367fa",
   "metadata": {},
   "outputs": [],
   "source": [
    "pd.set_option('display.float_format', lambda x: '%.9f' % x)\n",
    "trip_data.describe()"
   ]
  },
  {
   "cell_type": "markdown",
   "id": "f82f0d87",
   "metadata": {},
   "source": [
    "## Univariate Analysis"
   ]
  },
  {
   "cell_type": "markdown",
   "id": "25b3867e",
   "metadata": {},
   "source": [
    "From the statistical summary above, the oldest user is 141 years old which is quite very old, a very rare or an impossible case even, a box plot will be plotted to check for outliers in the age column."
   ]
  },
  {
   "cell_type": "code",
   "execution_count": null,
   "id": "28fe83a5",
   "metadata": {},
   "outputs": [],
   "source": [
    "plt.figure(figsize=[12, 5])\n",
    "sns.boxplot(x=trip_data[\"user_age\"])\n",
    "\n",
    "plt.xlabel('User Age')\n",
    "\n",
    "plt.title('Box plot showing Age statistics',fontsize=25)\n",
    "plt.show()"
   ]
  },
  {
   "cell_type": "markdown",
   "id": "dd6bc4cd",
   "metadata": {},
   "source": [
    "The box plot shows outliers from around age 62, however for this project we will be dropping ages above 80. The choice of this is due to the fact that the likelihood for ages above 80 to take bike trips is quite very rare. With this we will like to see how the age distribution of users look like."
   ]
  },
  {
   "cell_type": "code",
   "execution_count": null,
   "id": "c1225f13",
   "metadata": {},
   "outputs": [],
   "source": [
    "# get rows with ages less than 81\n",
    "trip_data=trip_data[trip_data['user_age']<81]"
   ]
  },
  {
   "cell_type": "code",
   "execution_count": null,
   "id": "baf8717e",
   "metadata": {},
   "outputs": [],
   "source": [
    "def CreateHistplot(x,bins,xlabel):\n",
    "    plt.figure(figsize=[12, 5])\n",
    "    plt.hist(data = trip_data, x = x, bins = bins)\n",
    "    plt.xticks(fontsize=12)\n",
    "    plt.yticks(fontsize=12)\n",
    "    plt.xlabel(xlabel,fontsize=15)\n",
    "    plt.ylabel('Number of trips',fontsize=15)\n",
    "    plt.title('Distribution of {}'.format(xlabel),fontsize=25)\n",
    "    \n",
    "    \n",
    "    "
   ]
  },
  {
   "cell_type": "code",
   "execution_count": null,
   "id": "7e8d3493",
   "metadata": {},
   "outputs": [],
   "source": [
    "#### How does the Age distribution of users look like ?\n",
    "\n",
    "binsize = 5\n",
    "bins = np.arange(20, trip_data['user_age'].max()+binsize, binsize)\n",
    "\n",
    "CreateHistplot('user_age',bins,'User Ages')\n"
   ]
  },
  {
   "cell_type": "markdown",
   "id": "14a82fa0",
   "metadata": {},
   "source": [
    "The most frequent users fall between the age of **30-35** after which the frequency of users seem to reduce as the user age increases. Teenagers do not seem to be part of the users and there are quite few users above 80 still going on trips."
   ]
  },
  {
   "cell_type": "markdown",
   "id": "fc9d6331",
   "metadata": {},
   "source": [
    "The distribution of the trip duration should be looked at as well"
   ]
  },
  {
   "cell_type": "code",
   "execution_count": null,
   "id": "112dab9d",
   "metadata": {},
   "outputs": [],
   "source": [
    "bins = np.arange(0, 1500, 50)\n",
    "sns.set(font_scale=1)\n",
    "CreateHistplot('trip_duration(mins)',bins,'Trip Duration')\n"
   ]
  },
  {
   "cell_type": "code",
   "execution_count": null,
   "id": "45df62af",
   "metadata": {},
   "outputs": [],
   "source": [
    "bins = 10 ** np.arange(0.1, 3.2, 0.3)\n",
    "\n",
    "CreateHistplot('trip_duration(mins)',bins,'Trip Duration')\n",
    "plt.xscale('log')\n",
    "plt.xticks([2,5,10,20,50,100,200,400,600,800,1400], [2,5,10,20,50,100,200,400,600,800,1400],fontsize=12)\n",
    "\n",
    "plt.show()"
   ]
  },
  {
   "cell_type": "markdown",
   "id": "37c62890",
   "metadata": {},
   "source": [
    "Looking at the log scale, it is can seen that the distribution is skewed to the left. Users mostly have short trips between **5 and 10 mins**. Very few users go for long trips above 50 minutes. It can observe that there are possible outliers, however we will not be dropping it as it poses to be a significant part of long trips. \n",
    "Moving forward We will like to find answer to some questions.  "
   ]
  },
  {
   "cell_type": "markdown",
   "id": "abeb58b0",
   "metadata": {},
   "source": [
    "#### What is the frequency distrution of trips in each month of the year and what days have more trips?"
   ]
  },
  {
   "cell_type": "code",
   "execution_count": null,
   "id": "35745096",
   "metadata": {},
   "outputs": [],
   "source": [
    "trip_data['day_of_Week'] = trip_data['end_time'].dt.day_name()\n",
    "trip_data['month'] = trip_data['end_time'].dt.month_name()\n",
    "trip_data['date'] = trip_data['end_time'].dt.date\n",
    "trip_data['hour'] = trip_data['start_time'].dt.hour"
   ]
  },
  {
   "cell_type": "code",
   "execution_count": null,
   "id": "b22ead29",
   "metadata": {},
   "outputs": [],
   "source": [
    "def CreateCountPlot(df,x,title, ax=None, order=None,hue=None,palette = None):\n",
    "    \n",
    "    sns.countplot(data=df, x=x,color='indigo',ax=ax,order=order,hue=hue,palette = palette);\n",
    "    plt.xticks(fontsize=12)\n",
    "    plt.yticks(fontsize=12)\n",
    "    plt.xlabel(x,fontsize=15)\n",
    "    plt.ylabel('Counts',fontsize=15)\n",
    "    plt.title(title,fontsize=25)\n",
    "  "
   ]
  },
  {
   "cell_type": "code",
   "execution_count": null,
   "id": "574cafe7",
   "metadata": {},
   "outputs": [],
   "source": [
    "fig, ax = plt.subplots(nrows=2, figsize = [12,12])\n",
    "x=['month','day_of_Week']\n",
    "order=[['January','February','March','April','May','June','July','August','September','October','November','December'],\n",
    "      ['Monday','Tuesday','Wednesday','Thursday','Friday','Saturday','Sunday']]\n",
    "default_color = sns.color_palette()[0]\n",
    "for i in range (2):\n",
    "    CreateCountPlot(trip_data,x[i],'Counts of trips per {}'.format(x[i]), ax = ax[i],order=order[i],hue=None)\n",
    "    ax[i].set_title('Counts of trips per {}'.format(x[i]), fontsize=20)\n",
    "    ax[i].set(xlabel=None);\n",
    "    ax[i].set_ylabel('Counts', fontsize=15)\n"
   ]
  },
  {
   "cell_type": "markdown",
   "id": "997b39c7",
   "metadata": {},
   "source": [
    "It is observed that more trips happen between **May till October** of which October has the most frequent trip, while there is less frequency in trips in the other months with **January** having the least number of bike trips. **Week days** have more trips than **weekends**."
   ]
  },
  {
   "cell_type": "code",
   "execution_count": null,
   "id": "e3055a28",
   "metadata": {},
   "outputs": [],
   "source": [
    "def GetPercent(col):\n",
    "    user_type_count=trip_data[col].value_counts()\n",
    "    m=100/(user_type_count.sum())\n",
    "    percent_user_type=user_type_count*m\n",
    "\n",
    "    data = percent_user_type.values\n",
    "    keys = percent_user_type.index\n",
    "    return data,keys\n",
    "\n",
    "\n",
    "def CreatePieChart(data,keys,title_suffix):\n",
    "    sns.set(font_scale=1)\n",
    "    plt.figure(figsize=[20, 6]) \n",
    "    # define Seaborn color palette to use\n",
    "    palette_color = sns.color_palette('terrain_r')\n",
    "\n",
    "    # plotting data on chart\n",
    "    plt.pie(data, colors=palette_color, autopct='%.0f%%')\n",
    "    plt.legend(keys)\n",
    "    plt.title(label=\"Percentage distribution of {}\".format(title_suffix),\n",
    "              fontsize=20)\n",
    "    "
   ]
  },
  {
   "cell_type": "markdown",
   "id": "131bc411",
   "metadata": {},
   "source": [
    "#### Do we have more subscribers than customers?"
   ]
  },
  {
   "cell_type": "code",
   "execution_count": null,
   "id": "eafe74f6",
   "metadata": {},
   "outputs": [],
   "source": [
    "# get user type and percentage distribution\n",
    "data=GetPercent('user_type')\n",
    "\n",
    "# plotting data on chart\n",
    "CreatePieChart(data[0],data[1],'User Type')\n",
    "# displaying chart\n",
    "plt.show()\n"
   ]
  },
  {
   "cell_type": "markdown",
   "id": "497d9ad8",
   "metadata": {},
   "source": [
    "We have alot more subscribers than Customers"
   ]
  },
  {
   "cell_type": "markdown",
   "id": "30c66574",
   "metadata": {},
   "source": [
    "#### Which gender uses the biking system more?"
   ]
  },
  {
   "cell_type": "code",
   "execution_count": null,
   "id": "74aedc19",
   "metadata": {},
   "outputs": [],
   "source": [
    "# get user gender and percentage distribution\n",
    "data=GetPercent('member_gender')\n",
    "\n",
    "# plotting data on chart\n",
    "CreatePieChart(data[0],data[1],'Member Gender')\n",
    "\n",
    "# displaying chart\n",
    "plt.show()"
   ]
  },
  {
   "cell_type": "markdown",
   "id": "84a2e974",
   "metadata": {},
   "source": [
    "The **male gender** mostly use the biking system."
   ]
  },
  {
   "cell_type": "code",
   "execution_count": null,
   "id": "ea07ce70",
   "metadata": {},
   "outputs": [],
   "source": [
    "def CreateBarPlot(df,y,x,title, ax=None, order=None,hue=None):\n",
    "    \n",
    "    sns.barplot(data=df, y=y, x=x,color = \"indigo\",ax=ax,order=order,hue=hue);\n",
    "    plt.xticks(fontsize=12)\n",
    "    plt.yticks(fontsize=12)\n",
    "    plt.xlabel(x,fontsize=15)\n",
    "    plt.ylabel(y,fontsize=15)\n",
    "    plt.title(title,fontsize=25)\n",
    "    \n",
    "  "
   ]
  },
  {
   "cell_type": "markdown",
   "id": "ba33e024",
   "metadata": {},
   "source": [
    "#### How many stations are there and which stations operate the most either to begin or end a trip as well as the station with the least activity?"
   ]
  },
  {
   "cell_type": "code",
   "execution_count": null,
   "id": "10a2d0ea",
   "metadata": {},
   "outputs": [],
   "source": [
    "df = pd.DataFrame({'stations': list(trip_data['start_station_name'])+list(trip_data['end_station_name'])\n",
    "                   })\n",
    "df=df.stations.value_counts()\n",
    "df=df.rename_axis('stations').reset_index(name='counts')\n",
    "\n",
    "print('There are {} bike stations'.format(df.stations.nunique()))\n",
    "sns.set(font_scale=1)\n",
    "plt.figure(figsize=[15, 8])\n",
    "CreateBarPlot(df[:20],'stations','counts',\"Top 20 most used Bike Stations\", ax=None, order=None)"
   ]
  },
  {
   "cell_type": "code",
   "execution_count": null,
   "id": "d1698b5e",
   "metadata": {},
   "outputs": [],
   "source": [
    "sns.set(font_scale=1)\n",
    "plt.figure(figsize=[10, 5])\n",
    "CreateBarPlot(df[-10:],'stations','counts',\"Least Used Bike Stations\", ax=None, order=None)"
   ]
  },
  {
   "cell_type": "markdown",
   "id": "3c5f580b",
   "metadata": {},
   "source": [
    "**San Francisco Caltrain Station 2** is the most used pickup or drop off bike station in SanFransisco with about 80 thousands counts of bike activity, which is followed by **San Francisco Caltrain (Townsend St at 4th St)**  with about 75 thousand counts. **2nd St at S Park St**, **Viva Calle SJ**, and **Farnam St at Fruitvale Ave** are the stations with the least biking activity."
   ]
  },
  {
   "cell_type": "markdown",
   "id": "b51f7b45",
   "metadata": {},
   "source": [
    "## Bivariate Exploration"
   ]
  },
  {
   "cell_type": "markdown",
   "id": "fee19d23",
   "metadata": {},
   "source": [
    "We will start by plotting a heatmap to get an overview of numerical variables that are correlated before further answering other questions."
   ]
  },
  {
   "cell_type": "code",
   "execution_count": null,
   "id": "d92bcec0",
   "metadata": {},
   "outputs": [],
   "source": [
    "sns.heatmap(trip_data[['user_age','trip_duration(mins)']].corr(), annot = True, fmt = '.2f', cmap = 'vlag_r', center = 0);"
   ]
  },
  {
   "cell_type": "markdown",
   "id": "f9c82b16",
   "metadata": {},
   "source": [
    "There is no correlation at all with them, we will now move further to explore other variables to get more insight "
   ]
  },
  {
   "cell_type": "markdown",
   "id": "9898101c",
   "metadata": {},
   "source": [
    "#### On average what month and days has the longest duration covered in trips?"
   ]
  },
  {
   "cell_type": "code",
   "execution_count": null,
   "id": "be019cbd",
   "metadata": {},
   "outputs": [],
   "source": [
    "# Create and sort datafraem for average trip duration per months\n",
    "df=trip_data[['trip_duration(mins)','month','day_of_Week']].groupby(['month','day_of_Week']).mean()\n",
    "df=df.reset_index()\n",
    "df=df.sort_values(by='trip_duration(mins)')\n"
   ]
  },
  {
   "cell_type": "code",
   "execution_count": null,
   "id": "970707f6",
   "metadata": {},
   "outputs": [],
   "source": [
    "fig, ax = plt.subplots(nrows=2, figsize = [12,12])\n",
    "x=['month','day_of_Week']\n",
    "order=[['January','February','March','April','May','June','July','August','September','October','November','December'],\n",
    "      ['Monday','Tuesday','Wednesday','Thursday','Friday','Saturday','Sunday']]\n",
    "default_color = sns.color_palette()[0]\n",
    "# Create bar subplots \n",
    "for i in range (2):\n",
    "    CreateBarPlot(df,'trip_duration(mins)',x[i],'Average Trip Duration Covered per {}'.format(x[i]), ax=ax[i], order=order[i])\n",
    "    ax[i].set_title('Average Trip Duration Covered per {}'.format(x[i]), fontsize=20)\n",
    "    ax[i].set(xlabel=None);\n",
    "    ax[i].set_ylabel('Trip Duration(mins)', fontsize=15)\n"
   ]
  },
  {
   "cell_type": "markdown",
   "id": "ca7444b6",
   "metadata": {},
   "source": [
    "**June till September** shows the longest average trip duration, which can be seen that these long trips mostly fall on **weekends**."
   ]
  },
  {
   "cell_type": "markdown",
   "id": "dd33118a",
   "metadata": {},
   "source": [
    "#### What age group averagely go on the farthest trips?\n"
   ]
  },
  {
   "cell_type": "code",
   "execution_count": null,
   "id": "55be2d51",
   "metadata": {},
   "outputs": [],
   "source": [
    "def age_cat(x):\n",
    "    if x>=20 and x<30:\n",
    "        return \"20-29\"\n",
    "    elif x>=30 and x<40:\n",
    "        return \"30-39\"\n",
    "    elif x>=40 and x<50:\n",
    "        return \"40-49\"\n",
    "    elif x>=50 and x<60:\n",
    "        return \"50-59\"\n",
    "    elif x>=60 and x<70:\n",
    "        return \"60-69\"\n",
    "    elif x>=70:\n",
    "        return \"70 and above\"\n",
    "\n",
    "trip_data['Age_category']=trip_data['user_age'].apply(lambda x: age_cat(x))"
   ]
  },
  {
   "cell_type": "code",
   "execution_count": null,
   "id": "72106f22",
   "metadata": {},
   "outputs": [],
   "source": [
    "m=trip_data[trip_data['user_age']<81]\n",
    "df=m[['trip_duration(mins)','Age_category']].groupby(['Age_category']).mean()\n",
    "df=df.reset_index()\n",
    "df=df.sort_values(by='trip_duration(mins)')\n",
    "df"
   ]
  },
  {
   "cell_type": "code",
   "execution_count": null,
   "id": "5c083336",
   "metadata": {},
   "outputs": [],
   "source": [
    "sns.set(font_scale=1)\n",
    "order=['20-29','30-39','40-49','50-59','60-69','70 and above']\n",
    "plt.figure(figsize=[15, 8])\n",
    "CreateBarPlot(df,\"trip_duration(mins)\",'Age_category',\"Average Trip Duration Covered by Age Category\", order=order)\n",
    "\n",
    "plt.xticks(rotation=90);\n"
   ]
  },
  {
   "cell_type": "markdown",
   "id": "dbb3c8bc",
   "metadata": {},
   "source": [
    "There is no correlations between age and trip durations."
   ]
  },
  {
   "cell_type": "markdown",
   "id": "4518497f",
   "metadata": {},
   "source": [
    "## Multivariate Exploration"
   ]
  },
  {
   "cell_type": "markdown",
   "id": "f2e13974",
   "metadata": {},
   "source": [
    "We can further dive in to see of which usertype and genders partake more in long trips"
   ]
  },
  {
   "cell_type": "code",
   "execution_count": null,
   "id": "10f8e766",
   "metadata": {},
   "outputs": [],
   "source": [
    "# Custom Function to  craete facetgrid\n",
    "def CreateFacetGrid(font_scale,size,df,title,plottype, col,x,y=None,hue=None,col_wrap=3,color=None,palette=None,legend_title=None,col_order=None):\n",
    "    df=df.reset_index()\n",
    "    df=df.sort_values(by='trip_duration(mins)')\n",
    "\n",
    "    sns.set(font_scale=font_scale)\n",
    "    g = sns.FacetGrid(data = df, col = col,col_order=col_order,size = size,col_wrap=col_wrap)\n",
    "    g.fig.suptitle(title);\n",
    "    if hue==None and plottype=='countplot':\n",
    "        g.map(sns.countplot, x, palette=palette)\n",
    "    else:\n",
    "        g.map(sns.barplot, x, y,hue, palette=palette)\n",
    "    g.add_legend(title=legend_title); \n",
    "    return g"
   ]
  },
  {
   "cell_type": "code",
   "execution_count": null,
   "id": "d72cf380",
   "metadata": {},
   "outputs": [],
   "source": [
    "# Group data by usertype and gender\n",
    "df=trip_data[['trip_duration(mins)','user_type','bike_share_for_all_trip','member_gender']].groupby(['user_type','bike_share_for_all_trip','member_gender']).mean()\n",
    "\n",
    "title='Average Distribution of Trip Duration Across User Type and Gender'\n",
    "legend_title='Bike sharing for all trip'\n",
    "xticks=['Subscriber','Customer']\n",
    "\n",
    "# Create facet grid\n",
    "\n",
    "CreateFacetGrid(6,20,df,title,'barplot', 'member_gender','user_type','trip_duration(mins)',hue='bike_share_for_all_trip',palette='Reds',legend_title=legend_title)\n",
    "\n"
   ]
  },
  {
   "cell_type": "markdown",
   "id": "dc43e447",
   "metadata": {},
   "source": [
    "From the above plots, **Female users** tend to go on longer trips than other genders. Also **customer user types** go for longer trips and these customer user type **do not partake in bike sharing**."
   ]
  },
  {
   "cell_type": "markdown",
   "id": "9f667205",
   "metadata": {},
   "source": [
    "#### What hours of the day is the most active?"
   ]
  },
  {
   "cell_type": "code",
   "execution_count": null,
   "id": "79744e5c",
   "metadata": {},
   "outputs": [],
   "source": [
    "# Group data by hour and day of teh week\n",
    "\n",
    "df=trip_data[['trip_duration(mins)','day_of_Week','hour']].groupby(['hour','day_of_Week']).mean()\n",
    "cats = [ 'Monday', 'Tuesday', 'Wednesday', 'Thursday', 'Friday', 'Saturday', 'Sunday']\n",
    "\n",
    "title='Number of Trip per hour across the days of the week'\n",
    "xticks=[3,6, 9,12,15, 18,21]\n",
    "\n",
    "# Create facet grid\n",
    "\n",
    "g=CreateFacetGrid(3,10,trip_data,title,'countplot', 'day_of_Week','hour','trip_duration(mins)',col_wrap=3,color='blue',col_order=cats)\n",
    "g.set(xticks=xticks)"
   ]
  },
  {
   "cell_type": "markdown",
   "id": "1f73baa1",
   "metadata": {},
   "source": [
    "The plots for the weekdays is bimodal which implies we have more trips between **7 to 9 hours of the morning** and around **16 hours and 18hours in the evenings**. However during the weekends, We observe the plots to be a bit bimodal. Most trips happen between 11 to 18 hours of the day. "
   ]
  },
  {
   "cell_type": "code",
   "execution_count": null,
   "id": "f9c36e07",
   "metadata": {},
   "outputs": [],
   "source": [
    "df=trip_data[['trip_duration(mins)','user_type','Age_category','member_gender']].groupby(['user_type','member_gender','Age_category']).mean()\n",
    "df=df.reset_index()\n",
    "df=df.sort_values(by='trip_duration(mins)')\n",
    "\n",
    "sns.set(font_scale=1)\n",
    "order=['20-29','30-39','40-49','50-59','60-69','70 and above']\n",
    "plt.figure(figsize=[15, 7]);\n",
    "CreateCountPlot(trip_data,\"Age_category\",\"Count of trips by Age Category\", ax=None, order=order,hue='member_gender',palette = \"Reds\")\n",
    "\n",
    "plt.xticks(rotation=90);"
   ]
  },
  {
   "cell_type": "markdown",
   "id": "34e8668c",
   "metadata": {},
   "source": [
    "Users between age 30-39 have the higher percentage among the users. It is also seen that there are no female users above 69. This plot reconfirms the majority of users are men."
   ]
  },
  {
   "cell_type": "code",
   "execution_count": null,
   "id": "4d01aa69",
   "metadata": {},
   "outputs": [],
   "source": []
  }
 ],
 "metadata": {
  "kernelspec": {
   "display_name": "Python 3 (ipykernel)",
   "language": "python",
   "name": "python3"
  },
  "language_info": {
   "codemirror_mode": {
    "name": "ipython",
    "version": 3
   },
   "file_extension": ".py",
   "mimetype": "text/x-python",
   "name": "python",
   "nbconvert_exporter": "python",
   "pygments_lexer": "ipython3",
   "version": "3.9.7"
  }
 },
 "nbformat": 4,
 "nbformat_minor": 5
}
